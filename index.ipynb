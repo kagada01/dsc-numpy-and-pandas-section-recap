{
 "cells": [
  {
   "cell_type": "markdown",
   "metadata": {},
   "source": [
    "# Python Libraries: Numpy and Pandas - Recap\n",
    "\n",
    "This short lesson summarizes the topics we covered in this section and why they'll be important to you as a Data Scientist.\n",
    "\n",
    "\n",
    "## Key Takeaways\n",
    "In this section, we spent time getting comfortable with Pandas and Matplotlib and getting some more practice with exploratory data analysis. Some of the key takeaways:\n",
    "* For non-trivial datasets you'll usually want to store your data in Pandas data structures rather than native Python lists and dictionaries \n",
    "* Pandas has a range of great features for easily importing data from anything from a csv, an Excel file, json, or a Python dictionary  \n",
    "* Pandas Series and DataFrames have a bunch of powerful methods for munging data \n",
    "* Pandas also has a range of methods for applying descriptive statistics to Series and DataFrames \n",
    "* Finally, by wrapping Matplotlib, Pandas also provides some very convenient plotting capabilities for quickly visualizing data \n",
    "\n",
    "We also got some experience working with the Boston Housing dataset, and set up accounts on Kaggle - a really useful resource for practicing Data Scientists."
   ]
  }
 ],
 "metadata": {
  "kernelspec": {
   "display_name": "Python 3",
   "language": "python",
   "name": "python3"
  },
  "language_info": {
   "codemirror_mode": {
    "name": "ipython",
    "version": 3
   },
   "file_extension": ".py",
   "mimetype": "text/x-python",
   "name": "python",
   "nbconvert_exporter": "python",
   "pygments_lexer": "ipython3",
   "version": "3.7.6"
  }
 },
 "nbformat": 4,
 "nbformat_minor": 2
}
